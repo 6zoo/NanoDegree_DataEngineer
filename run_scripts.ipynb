{
 "cells": [
  {
   "cell_type": "code",
   "execution_count": 1,
   "metadata": {},
   "outputs": [
    {
     "name": "stdout",
     "output_type": "stream",
     "text": [
      "Connecting to redshift\n",
      "Connected to redshift\n",
      "Dropping existing tables if any\n",
      "Executing drop: DROP TABLE IF EXISTS staging_events\n",
      "Executing drop: DROP TABLE IF EXISTS staging_songs\n",
      "Executing drop: DROP TABLE IF EXISTS songplays\n",
      "Executing drop: DROP TABLE IF EXISTS users\n",
      "Executing drop: DROP TABLE IF EXISTS songs\n",
      "Executing drop: DROP TABLE IF EXISTS artists\n",
      "Executing drop: DROP TABLE IF EXISTS time\n",
      "Creating tables\n",
      "Executing create: \n",
      "    CREATE TABLE staging_events(\n",
      "        artist              VARCHAR,\n",
      "        auth                VARCHAR,\n",
      "        firstName           VARCHAR,\n",
      "        gender              VARCHAR,\n",
      "        itemInSession       INTEGER,\n",
      "        lastName            VARCHAR,\n",
      "        length              FLOAT,\n",
      "        level               VARCHAR,\n",
      "        location            VARCHAR,\n",
      "        method              VARCHAR,\n",
      "        page                VARCHAR,\n",
      "        registration        FLOAT,\n",
      "        sessionId           INTEGER,\n",
      "        song                VARCHAR,\n",
      "        status              INTEGER,\n",
      "        ts                  TIMESTAMP,\n",
      "        userAgent           VARCHAR,\n",
      "        userId              INTEGER \n",
      "    )\n",
      "\n",
      "Executing create: \n",
      "    CREATE TABLE staging_songs(\n",
      "        num_songs           INTEGER,\n",
      "        artist_id           VARCHAR,\n",
      "        artist_latitude     FLOAT,\n",
      "        artist_longitude    FLOAT,\n",
      "        artist_location     VARCHAR,\n",
      "        artist_name         VARCHAR,\n",
      "        song_id             VARCHAR,\n",
      "        title               VARCHAR,\n",
      "        duration            FLOAT,\n",
      "        year                INTEGER\n",
      "    )\n",
      "\n",
      "Executing create: \n",
      "    CREATE TABLE songplays\n",
      "    (\n",
      "        songplay_id BIGINT   PRIMARY KEY,\n",
      "        start_time timestamp NOT NULL sortkey distkey,\n",
      "        user_id INTEGER      NOT NULL,\n",
      "        level VARCHAR,\n",
      "        song_id VARCHAR      NOT NULL,\n",
      "        artist_id VARCHAR    NOT NULL,\n",
      "        session_id INTEGER,\n",
      "        location VARCHAR,\n",
      "        user_agent VARCHAR\n",
      "    )\n",
      "\n",
      "Executing create: \n",
      "    CREATE TABLE users\n",
      "    (\n",
      "        user_id INTEGER NOT NULL sortkey PRIMARY KEY,\n",
      "        first_name VARCHAR,\n",
      "        last_name VARCHAR,\n",
      "        gender VARCHAR,\n",
      "        level VARCHAR\n",
      "    )\n",
      "\n",
      "Executing create: \n",
      "    CREATE TABLE songs\n",
      "    (\n",
      "        song_id INTEGER NOT NULL sortkey PRIMARY KEY,\n",
      "        title VARCHAR NOT NULL,\n",
      "        artist_id VARCHAR NOT NULL,\n",
      "        year INTEGER NOT NULL,\n",
      "        duration FLOAT\n",
      "    )\n",
      "\n",
      "Executing create: \n",
      "    CREATE TABLE artists\n",
      "    (\n",
      "        artist_id VARCHAR NOT NULL sortkey PRIMARY KEY,\n",
      "        name VARCHAR NOT NULL,\n",
      "        location VARCHAR,\n",
      "        latitude FLOAT,\n",
      "        longitude FLOAT\n",
      "    )\n",
      "\n",
      "Executing create: \n",
      "    CREATE TABLE time\n",
      "    (\n",
      "        start_time timestamp NOT NULL sortkey PRIMARY KEY,\n",
      "        hour INTEGER NOT NULL,\n",
      "        day INTEGER NOT NULL,\n",
      "        week INTEGER NOT NULL,\n",
      "        month INTEGER NOT NULL,\n",
      "        year INTEGER NOT NULL,\n",
      "        weekday INTEGER NOT NULL\n",
      "    )\n",
      "\n",
      "Create table Ended\n"
     ]
    }
   ],
   "source": [
    "%run create_tables.py"
   ]
  },
  {
   "cell_type": "code",
   "execution_count": 2,
   "metadata": {},
   "outputs": [
    {
     "name": "stdout",
     "output_type": "stream",
     "text": [
      "AWS Redshift connection established OK.\n",
      "load staging tables...\n"
     ]
    },
    {
     "ename": "InternalError_",
     "evalue": "Load into table 'staging_events' failed.  Check 'stl_load_errors' system table for details.\n",
     "output_type": "error",
     "traceback": [
      "\u001b[0;31m---------------------------------------------------------------------------\u001b[0m",
      "\u001b[0;31mInternalError_\u001b[0m                            Traceback (most recent call last)",
      "\u001b[0;32m~/opt/anaconda3/envs/env_tsjung3/Udacity_DataEngineer/AWS/Project:DataWareHouse/etl.py\u001b[0m in \u001b[0;36m<module>\u001b[0;34m\u001b[0m\n\u001b[1;32m     42\u001b[0m \u001b[0;34m\u001b[0m\u001b[0m\n\u001b[1;32m     43\u001b[0m \u001b[0;32mif\u001b[0m \u001b[0m__name__\u001b[0m \u001b[0;34m==\u001b[0m \u001b[0;34m\"__main__\"\u001b[0m\u001b[0;34m:\u001b[0m\u001b[0;34m\u001b[0m\u001b[0;34m\u001b[0m\u001b[0m\n\u001b[0;32m---> 44\u001b[0;31m     \u001b[0mmain\u001b[0m\u001b[0;34m(\u001b[0m\u001b[0;34m)\u001b[0m\u001b[0;34m\u001b[0m\u001b[0;34m\u001b[0m\u001b[0m\n\u001b[0m",
      "\u001b[0;32m~/opt/anaconda3/envs/env_tsjung3/Udacity_DataEngineer/AWS/Project:DataWareHouse/etl.py\u001b[0m in \u001b[0;36mmain\u001b[0;34m()\u001b[0m\n\u001b[1;32m     32\u001b[0m     \u001b[0mprint\u001b[0m\u001b[0;34m(\u001b[0m\u001b[0;34m\"load staging tables...\"\u001b[0m\u001b[0;34m)\u001b[0m\u001b[0;34m\u001b[0m\u001b[0;34m\u001b[0m\u001b[0m\n\u001b[1;32m     33\u001b[0m \u001b[0;34m\u001b[0m\u001b[0m\n\u001b[0;32m---> 34\u001b[0;31m     \u001b[0mload_staging_tables\u001b[0m\u001b[0;34m(\u001b[0m\u001b[0mcur\u001b[0m\u001b[0;34m,\u001b[0m \u001b[0mconn\u001b[0m\u001b[0;34m)\u001b[0m\u001b[0;34m\u001b[0m\u001b[0;34m\u001b[0m\u001b[0m\n\u001b[0m\u001b[1;32m     35\u001b[0m     \u001b[0mprint\u001b[0m\u001b[0;34m(\u001b[0m\u001b[0;34m\"load staging tables...\"\u001b[0m\u001b[0;34m)\u001b[0m\u001b[0;34m\u001b[0m\u001b[0;34m\u001b[0m\u001b[0m\n\u001b[1;32m     36\u001b[0m     \u001b[0minsert_tables\u001b[0m\u001b[0;34m(\u001b[0m\u001b[0mcur\u001b[0m\u001b[0;34m,\u001b[0m \u001b[0mconn\u001b[0m\u001b[0;34m)\u001b[0m\u001b[0;34m\u001b[0m\u001b[0;34m\u001b[0m\u001b[0m\n",
      "\u001b[0;32m~/opt/anaconda3/envs/env_tsjung3/Udacity_DataEngineer/AWS/Project:DataWareHouse/etl.py\u001b[0m in \u001b[0;36mload_staging_tables\u001b[0;34m(cur, conn)\u001b[0m\n\u001b[1;32m      6\u001b[0m \u001b[0;32mdef\u001b[0m \u001b[0mload_staging_tables\u001b[0m\u001b[0;34m(\u001b[0m\u001b[0mcur\u001b[0m\u001b[0;34m,\u001b[0m \u001b[0mconn\u001b[0m\u001b[0;34m)\u001b[0m\u001b[0;34m:\u001b[0m\u001b[0;34m\u001b[0m\u001b[0;34m\u001b[0m\u001b[0m\n\u001b[1;32m      7\u001b[0m     \u001b[0;32mfor\u001b[0m \u001b[0mquery\u001b[0m \u001b[0;32min\u001b[0m \u001b[0mcopy_table_queries\u001b[0m\u001b[0;34m:\u001b[0m\u001b[0;34m\u001b[0m\u001b[0;34m\u001b[0m\u001b[0m\n\u001b[0;32m----> 8\u001b[0;31m         \u001b[0mcur\u001b[0m\u001b[0;34m.\u001b[0m\u001b[0mexecute\u001b[0m\u001b[0;34m(\u001b[0m\u001b[0mquery\u001b[0m\u001b[0;34m)\u001b[0m\u001b[0;34m\u001b[0m\u001b[0;34m\u001b[0m\u001b[0m\n\u001b[0m\u001b[1;32m      9\u001b[0m         \u001b[0mprint\u001b[0m\u001b[0;34m(\u001b[0m\u001b[0;34m'Processing query: {}'\u001b[0m\u001b[0;34m.\u001b[0m\u001b[0mformat\u001b[0m\u001b[0;34m(\u001b[0m\u001b[0mquery\u001b[0m\u001b[0;34m)\u001b[0m\u001b[0;34m)\u001b[0m\u001b[0;34m\u001b[0m\u001b[0;34m\u001b[0m\u001b[0m\n\u001b[1;32m     10\u001b[0m         \u001b[0mconn\u001b[0m\u001b[0;34m.\u001b[0m\u001b[0mcommit\u001b[0m\u001b[0;34m(\u001b[0m\u001b[0;34m)\u001b[0m\u001b[0;34m\u001b[0m\u001b[0;34m\u001b[0m\u001b[0m\n",
      "\u001b[0;31mInternalError_\u001b[0m: Load into table 'staging_events' failed.  Check 'stl_load_errors' system table for details.\n"
     ]
    }
   ],
   "source": [
    "%run etl.py"
   ]
  },
  {
   "cell_type": "code",
   "execution_count": null,
   "metadata": {},
   "outputs": [],
   "source": []
  }
 ],
 "metadata": {
  "kernelspec": {
   "display_name": "Python 3",
   "language": "python",
   "name": "python3"
  },
  "language_info": {
   "codemirror_mode": {
    "name": "ipython",
    "version": 3
   },
   "file_extension": ".py",
   "mimetype": "text/x-python",
   "name": "python",
   "nbconvert_exporter": "python",
   "pygments_lexer": "ipython3",
   "version": "3.7.6"
  }
 },
 "nbformat": 4,
 "nbformat_minor": 4
}
